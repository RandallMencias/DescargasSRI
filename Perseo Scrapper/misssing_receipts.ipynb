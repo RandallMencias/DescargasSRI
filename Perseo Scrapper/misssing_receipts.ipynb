{
 "cells": [
  {
   "cell_type": "code",
   "execution_count": 28,
   "id": "initial_id",
   "metadata": {
    "ExecuteTime": {
     "end_time": "2025-09-28T18:55:33.029988Z",
     "start_time": "2025-09-28T18:55:33.006734Z"
    },
    "collapsed": true
   },
   "outputs": [
    {
     "name": "stdout",
     "output_type": "stream",
     "text": [
      "WARNING *** OLE2 inconsistency: SSCS size is 0 but SSAT size is non-zero\n"
     ]
    },
    {
     "data": {
      "text/plain": [
       "0     HMHCTBQDJ3\n",
       "1     HM9F8N92TN\n",
       "2     HMDXW9PN54\n",
       "3     HMACKQQ9RA\n",
       "4     HMFSKRMFRD\n",
       "         ...    \n",
       "66    HMFZMPW5RF\n",
       "67    HMFQ224SCX\n",
       "68    HMYXNBE4RW\n",
       "69    HMYCTD22WH\n",
       "70    HMM4BQKTAH\n",
       "Name: final, Length: 71, dtype: object"
      ]
     },
     "execution_count": 28,
     "metadata": {},
     "output_type": "execute_result"
    }
   ],
   "source": [
    "#Read an Excel  file and extract 3 values,\n",
    "\n",
    "import pandas as pd\n",
    "\n",
    "# Path to the Excel file\n",
    "file_path = r\"C:\\Users\\Randall\\Downloads\\Listado de Movimiento de Bancos.xls\"\n",
    "\n",
    "# Read the Excel file\n",
    "data = pd.read_excel(file_path)\n",
    "\n",
    "# Extract the values from the specified columns\n",
    "columns_to_extract = ['Recibo', 'Concepto', 'Débito']\n",
    "extracted_data = data[columns_to_extract].copy()\n",
    "\n",
    "# Split 'Concepto' at the first space into 'code' and 'name'\n",
    "def split_concepto(value):\n",
    "    if isinstance(value, str):\n",
    "        parts = value.split(' ', 1)\n",
    "        if len(parts) == 2:\n",
    "            return pd.Series({'code': parts[0], 'name': parts[1]})\n",
    "        else:\n",
    "            return pd.Series({'code': parts[0], 'name': ''})\n",
    "    else:\n",
    "        return pd.Series({'code': '', 'name': ''})\n",
    "\n",
    "extracted_data[['code', 'name']] = extracted_data['Concepto'].apply(split_concepto)\n",
    "\n",
    "# Create 'flag' column: 1 if 'Recibo' and 'code' do not match, else 0\n",
    "extracted_data['flag'] = (extracted_data['Recibo'].astype(str) != extracted_data['code'].astype(str)).astype(int)\n",
    "\n",
    "# Create 'final' column: if 'Recibo' and 'code' are equal, use 'Recibo'; else use the longest one\n",
    "extracted_data['final'] = extracted_data.apply(\n",
    "    lambda row: row['Recibo'] if str(row['Recibo']) == str(row['code']) else max([str(row['Recibo']), str(row['code'])], key=len),\n",
    "    axis=1\n",
    ")\n",
    "\n",
    "extracted_data['final']"
   ]
  },
  {
   "cell_type": "code",
   "execution_count": 29,
   "id": "a91b8d808e372881",
   "metadata": {
    "ExecuteTime": {
     "end_time": "2025-09-28T19:01:04.499220Z",
     "start_time": "2025-09-28T19:01:04.494569Z"
    }
   },
   "outputs": [],
   "source": [
    "import pandas as pd\n",
    "\n",
    "# Path to the Excel file\n",
    "file_path = r\"C:\\Users\\Randall\\Downloads\\reservations (1).csv\"\n",
    "\n",
    "# Read the Excel file\n",
    "data = pd.read_csv(file_path)\n",
    "data['Ingresos'] = data['Ingresos'][1::]\n",
    "\n",
    "Reservaciones = data[data['Estado'] == 'Huésped anterior']\n",
    "\n",
    "# Display the first few rows of the dataframe"
   ]
  },
  {
   "cell_type": "code",
   "execution_count": 30,
   "id": "ac0d96b8",
   "metadata": {},
   "outputs": [
    {
     "data": {
      "text/plain": [
       "0        NaN\n",
       "1     $92.37\n",
       "2    $103.46\n",
       "3    $301.56\n",
       "4    $510.00\n",
       "Name: Ingresos, dtype: object"
      ]
     },
     "execution_count": 30,
     "metadata": {},
     "output_type": "execute_result"
    }
   ],
   "source": [
    "Reservaciones['Ingresos'].head()"
   ]
  },
  {
   "cell_type": "code",
   "execution_count": 31,
   "id": "comparison_code",
   "metadata": {},
   "outputs": [
    {
     "name": "stdout",
     "output_type": "stream",
     "text": [
      "Number of matches with price check: 38\n"
     ]
    }
   ],
   "source": [
    "# Compare 'Recibo' in extracted_data with 'Código de confirmación' in Reservaciones\n",
    "# Check for matches based on 'final' and 'Código de confirmación'\n",
    "matches = extracted_data['final'].isin(Reservaciones['Código de confirmación'])\n",
    "\n",
    "# Further check for matches by comparing 'Ingresos' and 'Débito'\n",
    "matches_with_price_check = extracted_data[matches].merge(\n",
    "    Reservaciones[['Código de confirmación', 'Ingresos']],\n",
    "    left_on='final',\n",
    "    right_on='Código de confirmación'\n",
    ")\n",
    "matches_with_price_check = matches_with_price_check[\n",
    "    matches_with_price_check['Débito'].astype(float) == matches_with_price_check['Ingresos'].str.replace('$', '').str.replace(',', '').astype(float)\n",
    "]\n",
    "\n",
    "# Count the number of matches\n",
    "num_matches = len(matches_with_price_check)\n",
    "print(f\"Number of matches with price check: {num_matches}\")\n",
    "\n",
    "# Check for non-matches\n",
    "non_matches = extracted_data[~matches]\n",
    "\n",
    "# Further check for non-matches by comparing 'Ingresos' and 'Débito'\n",
    "non_matches_with_price_check = non_matches.merge(\n",
    "    Reservaciones[['Código de confirmación', 'Ingresos']],\n",
    "    left_on='final',\n",
    "    right_on='Código de confirmación',\n",
    "    how='inner'\n",
    ")\n",
    "non_matches_with_price_check = non_matches_with_price_check[\n",
    "    non_matches_with_price_check['Débito'].astype(float) == non_matches_with_price_check['Ingresos'].str.replace('$', '').str.replace(',', '').astype(float)\n",
    "]\n",
    "\n",
    "# Print a message if there are non-matches with price check\n",
    "if not non_matches_with_price_check.empty:\n",
    "    print(\"There are non-matches that match by price:\")\n",
    "    print(non_matches_with_price_check)"
   ]
  },
  {
   "cell_type": "code",
   "execution_count": 32,
   "id": "non_matching_code",
   "metadata": {},
   "outputs": [
    {
     "name": "stdout",
     "output_type": "stream",
     "text": [
      "Number of non-matching 'Código de confirmación' values: 0\n"
     ]
    },
    {
     "data": {
      "text/plain": [
       "Series([], Name: Código de confirmación, dtype: object)"
      ]
     },
     "execution_count": 32,
     "metadata": {},
     "output_type": "execute_result"
    }
   ],
   "source": [
    "# Get 'Código de confirmación' values from Reservaciones that did not match with extracted_data\n",
    "non_matching_reservaciones = Reservaciones.loc[~Reservaciones['Código de confirmación'].isin(extracted_data['final']), 'Código de confirmación']\n",
    "print(f\"Number of non-matching 'Código de confirmación' values: {len(non_matching_reservaciones)}\")\n",
    "non_matching_reservaciones"
   ]
  }
 ],
 "metadata": {
  "kernelspec": {
   "display_name": "Python 3",
   "language": "python",
   "name": "python3"
  },
  "language_info": {
   "codemirror_mode": {
    "name": "ipython",
    "version": 3
   },
   "file_extension": ".py",
   "mimetype": "text/x-python",
   "name": "python",
   "nbconvert_exporter": "python",
   "pygments_lexer": "ipython3",
   "version": "3.13.5"
  }
 },
 "nbformat": 4,
 "nbformat_minor": 5
}
